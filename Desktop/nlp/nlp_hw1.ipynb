{
 "cells": [
  {
   "cell_type": "code",
   "execution_count": 5,
   "id": "9bf1ce22",
   "metadata": {},
   "outputs": [
    {
     "name": "stdout",
     "output_type": "stream",
     "text": [
      "['我', '来自', '北京', '清华大学']\n",
      "['我', '喜欢', '写', '程式']\n",
      "['每天', '发', '技术', '文章']\n",
      "---------------\n",
      "['我', '来自', '北京', '清华', '清华大学', '华大', '大学']\n",
      "['我', '喜欢', '写', '程式']\n",
      "['每天', '发', '技术', '文章']\n",
      "---------------\n",
      "['我', '来自', '北京', '清华', '华大', '大学', '清华大学']\n",
      "['我', '喜欢', '写', '程式']\n",
      "['每天', '发', '技术', '文章']\n"
     ]
    }
   ],
   "source": [
    "import jieba\n",
    "\n",
    "documents = ['我来自北京清华大学', '我喜欢写程式', '每天发技术文章']\n",
    "# 精確模式\n",
    "for sentence in documents:\n",
    "    seg_list = jieba.lcut(sentence)\n",
    "    print(seg_list)\n",
    "\n",
    "print('---------------')\n",
    "\n",
    "# 全模式\n",
    "for sentence in documents:\n",
    "    seg_list = jieba.lcut(sentence, cut_all=True)\n",
    "    print(seg_list)\n",
    "\n",
    "print('---------------')\n",
    "\n",
    "# 搜索引擎模式\n",
    "for sentence in documents:\n",
    "    seg_list = jieba.lcut_for_search(sentence)\n",
    "    print(seg_list)\n",
    "\n"
   ]
  },
  {
   "cell_type": "code",
   "execution_count": null,
   "id": "54c2b113",
   "metadata": {},
   "outputs": [],
   "source": []
  },
  {
   "cell_type": "code",
   "execution_count": null,
   "id": "a06783aa",
   "metadata": {},
   "outputs": [],
   "source": []
  },
  {
   "cell_type": "code",
   "execution_count": null,
   "id": "2f53b0f6",
   "metadata": {},
   "outputs": [],
   "source": []
  }
 ],
 "metadata": {
  "kernelspec": {
   "display_name": "Python 3 (ipykernel)",
   "language": "python",
   "name": "python3"
  },
  "language_info": {
   "codemirror_mode": {
    "name": "ipython",
    "version": 3
   },
   "file_extension": ".py",
   "mimetype": "text/x-python",
   "name": "python",
   "nbconvert_exporter": "python",
   "pygments_lexer": "ipython3",
   "version": "3.9.4"
  }
 },
 "nbformat": 4,
 "nbformat_minor": 5
}
